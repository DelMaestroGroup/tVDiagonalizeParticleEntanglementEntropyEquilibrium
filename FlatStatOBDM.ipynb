{
 "cells": [
  {
   "cell_type": "code",
   "execution_count": 1,
   "metadata": {
    "collapsed": false
   },
   "outputs": [],
   "source": [
    "import numpy as np\n",
    "from scipy.special import comb\n",
    "from numpy import linalg as LA"
   ]
  },
  {
   "cell_type": "code",
   "execution_count": 2,
   "metadata": {
    "collapsed": true
   },
   "outputs": [],
   "source": [
    "#Generate the element (0, r) of the OBDM\n",
    "def ρ0r(N,r):\n",
    "    if r==0:\n",
    "        ρ0r=1/(2*N)\n",
    "    elif r%2==0: \n",
    "        ρ0r=0\n",
    "    else:\n",
    "        m=int((r-1)/2)\n",
    "        ρ0r=(-1)**m*comb(N,m+1)/comb(2*N,2*(m+1))/(4*m+2)\n",
    "    return ρ0r"
   ]
  },
  {
   "cell_type": "code",
   "execution_count": 3,
   "metadata": {
    "collapsed": false
   },
   "outputs": [],
   "source": [
    "#Generate the first row of the OBDM\n",
    "def ρ(N):\n",
    "    L=2*N\n",
    "    ρ=np.zeros(L)\n",
    "    for r in range(0,L):\n",
    "        ρ[r]= ρ0r(N,r)\n",
    "    return  ρ"
   ]
  },
  {
   "cell_type": "code",
   "execution_count": 4,
   "metadata": {
    "collapsed": false
   },
   "outputs": [],
   "source": [
    "#Generate the OBDM\n",
    "def obdmf(N):\n",
    "    L=2*N\n",
    "    ρ0=np.zeros(L)\n",
    "    obdm=np.zeros([L, L])\n",
    "    ρ0=ρ(N)\n",
    "    for i in range(0,L):\n",
    "        for j in range(0,L):\n",
    "            obdm[i,j]=ρ0[((j-i)+L)%L]#*np.sign(j-i)**(1-Nd % 2) \n",
    "    for i in range(0,L):\n",
    "        obdm[i,i]=ρ0[0]\n",
    "    return obdm"
   ]
  },
  {
   "cell_type": "code",
   "execution_count": 5,
   "metadata": {
    "collapsed": true
   },
   "outputs": [],
   "source": [
    "#Generate the OBDM eigs\n",
    "def ρeigvals(N):\n",
    "    L=2*N\n",
    "    ρ0=np.zeros(L)\n",
    "    λ=np.zeros(L)\n",
    "    ρ0=ρ(N)\n",
    "    for q in range(0,2*N):\n",
    "        for i in range(0,L):\n",
    "            λ[q]+=ρ0[i]*np.cos((q+(N % 2-1)/2)*i*np.pi*2/L)\n",
    "    return λ"
   ]
  },
  {
   "cell_type": "code",
   "execution_count": 6,
   "metadata": {
    "collapsed": false
   },
   "outputs": [],
   "source": [
    "#Entanglement Entropy Calculation\n",
    "def Sα(λ,α):\n",
    "    ρ0=ρ(N)\n",
    "    Sα=0\n",
    "    if α==1:\n",
    "        for i in range(np.size(λ)):\n",
    "            if λ[i]>1e-16:\n",
    "                Sα-=λ[i]*np.log(λ[i])\n",
    "    else:\n",
    "        for i in range(np.size(λ)):\n",
    "            Sα+=abs(λ[i])**α\n",
    "        Sα=np.log(Sα)/(1-α)\n",
    "    return Sα"
   ]
  },
  {
   "cell_type": "markdown",
   "metadata": {},
   "source": [
    "# Test 1 "
   ]
  },
  {
   "cell_type": "code",
   "execution_count": 7,
   "metadata": {
    "collapsed": false
   },
   "outputs": [
    {
     "name": "stdout",
     "output_type": "stream",
     "text": [
      "sum(λ) 1.0000000000000013\n",
      "S1= 3.0705041128871575\n",
      "S2= 2.972131364918601\n",
      "Eneg= 3.170560585007733\n"
     ]
    }
   ],
   "source": [
    "N=15\n",
    "L=2*N\n",
    "λ=ρeigvals(N)\n",
    "print(\"sum(λ)\",sum(λ))\n",
    "\n",
    "S1=Sα(λ,1)\n",
    "print(\"S1=\",S1)\n",
    "\n",
    "S2=Sα(λ,2)\n",
    "print(\"S2=\",S2)\n",
    "\n",
    "Eneg=Sα(λ,.5)\n",
    "print(\"Eneg=\",Eneg)\n",
    "\n"
   ]
  },
  {
   "cell_type": "code",
   "execution_count": 8,
   "metadata": {
    "collapsed": false
   },
   "outputs": [],
   "source": [
    "Eneg=Sα(λ,.5)\n",
    "\n"
   ]
  },
  {
   "cell_type": "markdown",
   "metadata": {},
   "source": [
    "# Test 2 "
   ]
  },
  {
   "cell_type": "code",
   "execution_count": 9,
   "metadata": {
    "collapsed": false
   },
   "outputs": [
    {
     "name": "stdout",
     "output_type": "stream",
     "text": [
      "sum(λeig) 0.9999999999999998\n",
      "S1= 3.070504112887155\n",
      "S2= 2.9721313649186025\n",
      "Eneg= 3.1705605851835252\n"
     ]
    }
   ],
   "source": [
    "λeig = LA.eigvalsh(obdmf(N))\n",
    "print(\"sum(λeig)\",sum(λeig))\n",
    "\n",
    "S1=Sα(λeig,1)\n",
    "print(\"S1=\",S1)\n",
    "\n",
    "S2=Sα(λeig,2)\n",
    "print(\"S2=\",S2)\n",
    "\n",
    "Eneg=Sα(λeig,.5)\n",
    "print(\"Eneg=\",Eneg)"
   ]
  },
  {
   "cell_type": "markdown",
   "metadata": {},
   "source": [
    "# Test 3 "
   ]
  },
  {
   "cell_type": "code",
   "execution_count": 10,
   "metadata": {
    "collapsed": false
   },
   "outputs": [
    {
     "name": "stdout",
     "output_type": "stream",
     "text": [
      "N= 3 . Error= 3.666666678614483e-08\n",
      "N= 4 . Error= 1.142857156953766e-08\n",
      "N= 5 . Error= 9.253968330340247e-09\n",
      "N= 6 . Error= 1.2854256994148163e-08\n",
      "N= 7 . Error= 5.86200474392196e-09\n",
      "N= 8 . Error= 7.562859519045823e-09\n",
      "N= 9 . Error= 1.4603771305714519e-08\n",
      "N= 10 . Error= 1.930792342225872e-09\n",
      "N= 11 . Error= 1.2537290573895163e-08\n",
      "N= 12 . Error= 4.855706684367715e-09\n",
      "N= 13 . Error= 1.585922787036958e-09\n",
      "N= 14 . Error= 7.339483214731998e-09\n",
      "N= 15 . Error= 4.7328322341487036e-09\n"
     ]
    }
   ],
   "source": [
    "Ndata=[3,4,5,6,7,8,9,10,11,12,13,14,15]\n",
    "#Ndata=[4]\n",
    "\n",
    "\n",
    "for Nd in Ndata:\n",
    "    Ld=2*Nd\n",
    "    obdm=np.zeros([Ld, Ld])\n",
    "    FileName= f'obdmEDData/obdm_{Ld:02d}_{Nd:02d}_-2.000_+0.000.dat'\n",
    "    data = np.loadtxt(FileName)\n",
    "    index = data[:,0]\n",
    "    obdmED = data[:,1]\n",
    "    obdm=obdmf(Nd)\n",
    "    Erorr=0\n",
    "    if (Nd % 2==0):\n",
    "        for i in range(0,2*Nd):\n",
    "            phasefix=np.sign(i-Nd+1)\n",
    "            if i==Nd-1:\n",
    "                phasefix=1\n",
    "            Erorr+=abs(obdmED[i]*phasefix-obdm[Nd-1,i])\n",
    "    else:\n",
    "        for i in range(0,2*Nd):\n",
    "            #phasefix=(-1)**(abs(np.sign(Nd-1-i)))\n",
    "            #phasefix=-1\n",
    "            Erorr+=abs(obdmED[i]-obdm[Nd-1,i])\n",
    "\n",
    "\n",
    "    print(\"N=\",Nd,\". Error=\",Erorr)\n",
    "\n",
    "    "
   ]
  }
 ],
 "metadata": {
  "kernelspec": {
   "display_name": "Python 3",
   "language": "python",
   "name": "python3"
  },
  "language_info": {
   "codemirror_mode": {
    "name": "ipython",
    "version": 3
   },
   "file_extension": ".py",
   "mimetype": "text/x-python",
   "name": "python",
   "nbconvert_exporter": "python",
   "pygments_lexer": "ipython3",
   "version": "3.6.0"
  }
 },
 "nbformat": 4,
 "nbformat_minor": 2
}
